{
  "nbformat": 4,
  "nbformat_minor": 0,
  "metadata": {
    "colab": {
      "name": "Untitled2.ipynb",
      "provenance": [],
      "include_colab_link": true
    },
    "kernelspec": {
      "name": "python3",
      "display_name": "Python 3"
    }
  },
  "cells": [
    {
      "cell_type": "markdown",
      "metadata": {
        "id": "view-in-github",
        "colab_type": "text"
      },
      "source": [
        "<a href=\"https://colab.research.google.com/github/Jerry6coding/100days/blob/master/NLP_test.ipynb\" target=\"_parent\"><img src=\"https://colab.research.google.com/assets/colab-badge.svg\" alt=\"Open In Colab\"/></a>"
      ]
    },
    {
      "cell_type": "code",
      "metadata": {
        "id": "88E1k6fD2bRN"
      },
      "source": [
        "from google.colab import drive"
      ],
      "execution_count": 2,
      "outputs": []
    },
    {
      "cell_type": "code",
      "metadata": {
        "id": "jBAsOrXM3-W-"
      },
      "source": [
        "import pandas as pd\n",
        "import numpy as np\n",
        "import xgboost as xgb\n",
        "from tqdm import tqdm\n",
        "from sklearn.svm import SVC\n",
        "from keras.models import Sequential\n",
        "from keras.layers.recurrent import LSTM, GRU\n",
        "from keras.layers.core import Dense, Activation, Dropout\n",
        "from keras.layers.embeddings import Embedding\n",
        "from keras.layers.normalization import BatchNormalization\n",
        "from keras.utils import np_utils\n",
        "from sklearn import preprocessing, decomposition, model_selection, metrics, pipeline\n",
        "from sklearn.model_selection import GridSearchCV\n",
        "from sklearn.feature_extraction.text import TfidfVectorizer, CountVectorizer\n",
        "from sklearn.decomposition import TruncatedSVD\n",
        "from sklearn.linear_model import LogisticRegression\n",
        "from sklearn.model_selection import train_test_split\n",
        "from sklearn.naive_bayes import MultinomialNB\n",
        "from keras.layers import GlobalMaxPooling1D, Conv1D, MaxPooling1D, Flatten, Bidirectional, SpatialDropout1D\n",
        "from keras.preprocessing import sequence, text\n",
        "from keras.callbacks import EarlyStopping\n",
        "from nltk import word_tokenize\n",
        "from nltk.corpus import stopwords\n",
        "# import nltk\n",
        "# nltk.download('stopwords')\n",
        "from nltk.corpus import stopwords\n",
        "stop_words = stopwords.words('english')"
      ],
      "execution_count": 35,
      "outputs": []
    },
    {
      "cell_type": "code",
      "metadata": {
        "id": "nQFq7abN3-qY"
      },
      "source": [
        "import pandas as pd\n",
        "train = pd.read_csv('/content/drive/MyDrive/ML_data/NLP_test/train.csv')\n",
        "test = pd.read_csv('/content/drive/MyDrive/ML_data/NLP_test/test.csv')\n",
        "sample = pd.read_csv('/content/drive/MyDrive/ML_data/NLP_test/sample_submission.csv')"
      ],
      "execution_count": 22,
      "outputs": []
    },
    {
      "cell_type": "code",
      "metadata": {
        "colab": {
          "base_uri": "https://localhost:8080/",
          "height": 407
        },
        "id": "YTLpYrrw3-pP",
        "outputId": "fd46480c-0188-476c-dcab-cf871fa300ff"
      },
      "source": [
        "train"
      ],
      "execution_count": 36,
      "outputs": [
        {
          "output_type": "execute_result",
          "data": {
            "text/html": [
              "<div>\n",
              "<style scoped>\n",
              "    .dataframe tbody tr th:only-of-type {\n",
              "        vertical-align: middle;\n",
              "    }\n",
              "\n",
              "    .dataframe tbody tr th {\n",
              "        vertical-align: top;\n",
              "    }\n",
              "\n",
              "    .dataframe thead th {\n",
              "        text-align: right;\n",
              "    }\n",
              "</style>\n",
              "<table border=\"1\" class=\"dataframe\">\n",
              "  <thead>\n",
              "    <tr style=\"text-align: right;\">\n",
              "      <th></th>\n",
              "      <th>id</th>\n",
              "      <th>text</th>\n",
              "      <th>author</th>\n",
              "    </tr>\n",
              "  </thead>\n",
              "  <tbody>\n",
              "    <tr>\n",
              "      <th>0</th>\n",
              "      <td>id26305</td>\n",
              "      <td>This process, however, afforded me no means of...</td>\n",
              "      <td>EAP</td>\n",
              "    </tr>\n",
              "    <tr>\n",
              "      <th>1</th>\n",
              "      <td>id17569</td>\n",
              "      <td>It never once occurred to me that the fumbling...</td>\n",
              "      <td>HPL</td>\n",
              "    </tr>\n",
              "    <tr>\n",
              "      <th>2</th>\n",
              "      <td>id11008</td>\n",
              "      <td>In his left hand was a gold snuff box, from wh...</td>\n",
              "      <td>EAP</td>\n",
              "    </tr>\n",
              "    <tr>\n",
              "      <th>3</th>\n",
              "      <td>id27763</td>\n",
              "      <td>How lovely is spring As we looked from Windsor...</td>\n",
              "      <td>MWS</td>\n",
              "    </tr>\n",
              "    <tr>\n",
              "      <th>4</th>\n",
              "      <td>id12958</td>\n",
              "      <td>Finding nothing else, not even gold, the Super...</td>\n",
              "      <td>HPL</td>\n",
              "    </tr>\n",
              "    <tr>\n",
              "      <th>...</th>\n",
              "      <td>...</td>\n",
              "      <td>...</td>\n",
              "      <td>...</td>\n",
              "    </tr>\n",
              "    <tr>\n",
              "      <th>19574</th>\n",
              "      <td>id17718</td>\n",
              "      <td>I could have fancied, while I looked at it, th...</td>\n",
              "      <td>EAP</td>\n",
              "    </tr>\n",
              "    <tr>\n",
              "      <th>19575</th>\n",
              "      <td>id08973</td>\n",
              "      <td>The lids clenched themselves together as if in...</td>\n",
              "      <td>EAP</td>\n",
              "    </tr>\n",
              "    <tr>\n",
              "      <th>19576</th>\n",
              "      <td>id05267</td>\n",
              "      <td>Mais il faut agir that is to say, a Frenchman ...</td>\n",
              "      <td>EAP</td>\n",
              "    </tr>\n",
              "    <tr>\n",
              "      <th>19577</th>\n",
              "      <td>id17513</td>\n",
              "      <td>For an item of news like this, it strikes us i...</td>\n",
              "      <td>EAP</td>\n",
              "    </tr>\n",
              "    <tr>\n",
              "      <th>19578</th>\n",
              "      <td>id00393</td>\n",
              "      <td>He laid a gnarled claw on my shoulder, and it ...</td>\n",
              "      <td>HPL</td>\n",
              "    </tr>\n",
              "  </tbody>\n",
              "</table>\n",
              "<p>19579 rows × 3 columns</p>\n",
              "</div>"
            ],
            "text/plain": [
              "            id                                               text author\n",
              "0      id26305  This process, however, afforded me no means of...    EAP\n",
              "1      id17569  It never once occurred to me that the fumbling...    HPL\n",
              "2      id11008  In his left hand was a gold snuff box, from wh...    EAP\n",
              "3      id27763  How lovely is spring As we looked from Windsor...    MWS\n",
              "4      id12958  Finding nothing else, not even gold, the Super...    HPL\n",
              "...        ...                                                ...    ...\n",
              "19574  id17718  I could have fancied, while I looked at it, th...    EAP\n",
              "19575  id08973  The lids clenched themselves together as if in...    EAP\n",
              "19576  id05267  Mais il faut agir that is to say, a Frenchman ...    EAP\n",
              "19577  id17513  For an item of news like this, it strikes us i...    EAP\n",
              "19578  id00393  He laid a gnarled claw on my shoulder, and it ...    HPL\n",
              "\n",
              "[19579 rows x 3 columns]"
            ]
          },
          "metadata": {
            "tags": []
          },
          "execution_count": 36
        }
      ]
    },
    {
      "cell_type": "code",
      "metadata": {
        "id": "z0N8w-I_8tr5"
      },
      "source": [
        "lbl_enc = preprocessing.LabelEncoder()\n",
        "y = lbl_enc.fit_transform(train.author.values)"
      ],
      "execution_count": 38,
      "outputs": []
    },
    {
      "cell_type": "code",
      "metadata": {
        "id": "wHITqO9X8-WC"
      },
      "source": [
        "xtrain, xvalid, ytrain, yvalid = train_test_split(train.text.values, y, \n",
        "                                                  stratify=y, \n",
        "                                                  random_state=42, \n",
        "                                                  test_size=0.1, shuffle=True)"
      ],
      "execution_count": 40,
      "outputs": []
    },
    {
      "cell_type": "code",
      "metadata": {
        "colab": {
          "base_uri": "https://localhost:8080/"
        },
        "id": "7It2jPSd8_rv",
        "outputId": "16e91eb4-c2a7-4b2f-fae7-efd28b771f32"
      },
      "source": [
        "print (xtrain.shape)\n",
        "print (xvalid.shape)"
      ],
      "execution_count": 41,
      "outputs": [
        {
          "output_type": "stream",
          "text": [
            "(17621,)\n",
            "(1958,)\n"
          ],
          "name": "stdout"
        }
      ]
    },
    {
      "cell_type": "code",
      "metadata": {
        "id": "lM3fzaLV9Ejz"
      },
      "source": [
        "token = text.Tokenizer(num_words=None)\n",
        "max_len = 70\n",
        "\n",
        "token.fit_on_texts(list(xtrain) + list(xvalid))\n",
        "xtrain_seq = token.texts_to_sequences(xtrain)\n",
        "xvalid_seq = token.texts_to_sequences(xvalid)\n",
        "\n",
        "# zero pad the sequences\n",
        "xtrain_pad = sequence.pad_sequences(xtrain_seq, maxlen=max_len)\n",
        "xvalid_pad = sequence.pad_sequences(xvalid_seq, maxlen=max_len)\n",
        "\n",
        "word_index = token.word_index"
      ],
      "execution_count": 42,
      "outputs": []
    },
    {
      "cell_type": "code",
      "metadata": {
        "colab": {
          "base_uri": "https://localhost:8080/"
        },
        "id": "vNqf-rlO9cVu",
        "outputId": "178681fc-6c02-4ddd-f1f7-e4377c8848f6"
      },
      "source": [
        "!wget http://nlp.stanford.edu/data/glove.6B.zip\n"
      ],
      "execution_count": 46,
      "outputs": [
        {
          "output_type": "stream",
          "text": [
            "--2021-03-13 23:44:17--  http://nlp.stanford.edu/data/glove.6B.zip\n",
            "Resolving nlp.stanford.edu (nlp.stanford.edu)... 171.64.67.140\n",
            "Connecting to nlp.stanford.edu (nlp.stanford.edu)|171.64.67.140|:80... connected.\n",
            "HTTP request sent, awaiting response... 302 Found\n",
            "Location: https://nlp.stanford.edu/data/glove.6B.zip [following]\n",
            "--2021-03-13 23:44:17--  https://nlp.stanford.edu/data/glove.6B.zip\n",
            "Connecting to nlp.stanford.edu (nlp.stanford.edu)|171.64.67.140|:443... connected.\n",
            "HTTP request sent, awaiting response... 301 Moved Permanently\n",
            "Location: http://downloads.cs.stanford.edu/nlp/data/glove.6B.zip [following]\n",
            "--2021-03-13 23:44:18--  http://downloads.cs.stanford.edu/nlp/data/glove.6B.zip\n",
            "Resolving downloads.cs.stanford.edu (downloads.cs.stanford.edu)... 171.64.64.22\n",
            "Connecting to downloads.cs.stanford.edu (downloads.cs.stanford.edu)|171.64.64.22|:80... connected.\n",
            "HTTP request sent, awaiting response... 200 OK\n",
            "Length: 862182613 (822M) [application/zip]\n",
            "Saving to: ‘glove.6B.zip’\n",
            "\n",
            "glove.6B.zip        100%[===================>] 822.24M  5.04MB/s    in 2m 40s  \n",
            "\n",
            "2021-03-13 23:46:58 (5.14 MB/s) - ‘glove.6B.zip’ saved [862182613/862182613]\n",
            "\n"
          ],
          "name": "stdout"
        }
      ]
    },
    {
      "cell_type": "code",
      "metadata": {
        "colab": {
          "base_uri": "https://localhost:8080/"
        },
        "id": "VNSElIqn_FT7",
        "outputId": "6de06286-004a-44d9-ec73-bf46cbd31842"
      },
      "source": [
        "!unzip glove*.zip"
      ],
      "execution_count": 47,
      "outputs": [
        {
          "output_type": "stream",
          "text": [
            "Archive:  glove.6B.zip\n",
            "  inflating: glove.6B.50d.txt        \n",
            "  inflating: glove.6B.100d.txt       \n",
            "  inflating: glove.6B.200d.txt       \n",
            "  inflating: glove.6B.300d.txt       \n"
          ],
          "name": "stdout"
        }
      ]
    },
    {
      "cell_type": "code",
      "metadata": {
        "colab": {
          "base_uri": "https://localhost:8080/"
        },
        "id": "5IabdClz_KOy",
        "outputId": "f5427863-5616-42e1-97c6-1e2cfe79d811"
      },
      "source": [
        "!ls\n",
        "!pwd"
      ],
      "execution_count": 48,
      "outputs": [
        {
          "output_type": "stream",
          "text": [
            "drive\t\t   glove.6B.200d.txt  glove.6B.50d.txt\tsample_data\n",
            "glove.6B.100d.txt  glove.6B.300d.txt  glove.6B.zip\n",
            "/content\n"
          ],
          "name": "stdout"
        }
      ]
    },
    {
      "cell_type": "code",
      "metadata": {
        "colab": {
          "base_uri": "https://localhost:8080/"
        },
        "id": "UAr-eGDe9aUO",
        "outputId": "b12c7091-9d81-4f6d-c675-1b09d34586a3"
      },
      "source": [
        "embeddings_index = {}\n",
        "f = open('/content/glove.6B.300d.txt')\n",
        "for line in tqdm(f, desc=\"Loading...\"):\n",
        "    values = line.split()\n",
        "    word = values[0]\n",
        "    coefs = np.asarray(values[1:], dtype='float32')\n",
        "    embeddings_index[word] = coefs\n",
        "f.close()\n",
        "\n",
        "print('Found %s word vectors.' % len(embeddings_index))"
      ],
      "execution_count": 56,
      "outputs": [
        {
          "output_type": "stream",
          "text": [
            "\n",
            "Loading...: 0it [00:00, ?it/s]\u001b[A\n",
            "Loading...: 1348it [00:00, 13473.43it/s]\u001b[A\n",
            "Loading...: 2610it [00:00, 13203.33it/s]\u001b[A\n",
            "Loading...: 3908it [00:00, 13132.86it/s]\u001b[A\n",
            "Loading...: 5151it [00:00, 12912.51it/s]\u001b[A\n",
            "Loading...: 6323it [00:00, 12527.11it/s]\u001b[A\n",
            "Loading...: 7576it [00:00, 12527.46it/s]\u001b[A\n",
            "Loading...: 8846it [00:00, 12574.62it/s]\u001b[A\n",
            "Loading...: 10112it [00:00, 12599.48it/s]\u001b[A\n",
            "Loading...: 11435it [00:00, 12780.57it/s]\u001b[A\n",
            "Loading...: 12783it [00:01, 12982.57it/s]\u001b[A\n",
            "Loading...: 14087it [00:01, 12996.97it/s]\u001b[A\n",
            "Loading...: 15384it [00:01, 12988.24it/s]\u001b[A\n",
            "Loading...: 16666it [00:01, 12804.68it/s]\u001b[A\n",
            "Loading...: 17985it [00:01, 12917.80it/s]\u001b[A\n",
            "Loading...: 19332it [00:01, 13076.67it/s]\u001b[A\n",
            "Loading...: 20672it [00:01, 13171.65it/s]\u001b[A\n",
            "Loading...: 22003it [00:01, 13212.69it/s]\u001b[A\n",
            "Loading...: 23322it [00:01, 12889.87it/s]\u001b[A\n",
            "Loading...: 24627it [00:01, 12935.72it/s]\u001b[A\n",
            "Loading...: 25921it [00:02, 12897.26it/s]\u001b[A\n",
            "Loading...: 27211it [00:02, 12842.59it/s]\u001b[A\n",
            "Loading...: 28496it [00:02, 12676.46it/s]\u001b[A\n",
            "Loading...: 29785it [00:02, 12739.42it/s]\u001b[A\n",
            "Loading...: 31060it [00:02, 12713.55it/s]\u001b[A\n",
            "Loading...: 32377it [00:02, 12846.16it/s]\u001b[A\n",
            "Loading...: 33663it [00:02, 12801.29it/s]\u001b[A\n",
            "Loading...: 35002it [00:02, 12971.09it/s]\u001b[A\n",
            "Loading...: 36300it [00:02, 12761.56it/s]\u001b[A\n",
            "Loading...: 37578it [00:02, 12595.54it/s]\u001b[A\n",
            "Loading...: 38839it [00:03, 12460.82it/s]\u001b[A\n",
            "Loading...: 40118it [00:03, 12556.11it/s]\u001b[A\n",
            "Loading...: 41375it [00:03, 12149.74it/s]\u001b[A\n",
            "Loading...: 42594it [00:03, 12011.84it/s]\u001b[A\n",
            "Loading...: 43799it [00:03, 11767.35it/s]\u001b[A\n",
            "Loading...: 44979it [00:03, 11741.93it/s]\u001b[A\n",
            "Loading...: 46224it [00:03, 11944.91it/s]\u001b[A\n",
            "Loading...: 47482it [00:03, 12127.08it/s]\u001b[A\n",
            "Loading...: 48762it [00:03, 12319.69it/s]\u001b[A\n",
            "Loading...: 50085it [00:03, 12579.16it/s]\u001b[A\n",
            "Loading...: 51346it [00:04, 12543.52it/s]\u001b[A\n",
            "Loading...: 52603it [00:04, 12461.98it/s]\u001b[A\n",
            "Loading...: 53898it [00:04, 12603.29it/s]\u001b[A\n",
            "Loading...: 55160it [00:04, 12219.94it/s]\u001b[A\n",
            "Loading...: 56386it [00:04, 12215.70it/s]\u001b[A\n",
            "Loading...: 57611it [00:04, 11542.28it/s]\u001b[A\n",
            "Loading...: 58775it [00:04, 11556.17it/s]\u001b[A\n",
            "Loading...: 59938it [00:04, 11529.29it/s]\u001b[A\n",
            "Loading...: 61160it [00:04, 11728.09it/s]\u001b[A\n",
            "Loading...: 62439it [00:04, 12027.59it/s]\u001b[A\n",
            "Loading...: 63647it [00:05, 11713.73it/s]\u001b[A\n",
            "Loading...: 64928it [00:05, 12021.97it/s]\u001b[A\n",
            "Loading...: 66168it [00:05, 12131.27it/s]\u001b[A\n",
            "Loading...: 67432it [00:05, 12277.77it/s]\u001b[A\n",
            "Loading...: 68742it [00:05, 12511.93it/s]\u001b[A\n",
            "Loading...: 70032it [00:05, 12625.39it/s]\u001b[A\n",
            "Loading...: 71309it [00:05, 12668.30it/s]\u001b[A\n",
            "Loading...: 72578it [00:05, 12439.81it/s]\u001b[A\n",
            "Loading...: 73825it [00:05, 12383.14it/s]\u001b[A\n",
            "Loading...: 75065it [00:06, 12333.25it/s]\u001b[A\n",
            "Loading...: 76300it [00:06, 12308.35it/s]\u001b[A\n",
            "Loading...: 77532it [00:06, 12188.30it/s]\u001b[A\n",
            "Loading...: 78760it [00:06, 12215.54it/s]\u001b[A\n",
            "Loading...: 80008it [00:06, 12291.10it/s]\u001b[A\n",
            "Loading...: 81238it [00:06, 12189.83it/s]\u001b[A\n",
            "Loading...: 82458it [00:06, 11918.44it/s]\u001b[A\n",
            "Loading...: 83652it [00:06, 11877.16it/s]\u001b[A\n",
            "Loading...: 84841it [00:06, 11428.02it/s]\u001b[A\n",
            "Loading...: 85995it [00:06, 11461.08it/s]\u001b[A\n",
            "Loading...: 87145it [00:07, 11068.44it/s]\u001b[A\n",
            "Loading...: 88257it [00:07, 11079.76it/s]\u001b[A\n",
            "Loading...: 89369it [00:07, 10547.29it/s]\u001b[A\n",
            "Loading...: 90479it [00:07, 10704.95it/s]\u001b[A\n",
            "Loading...: 91626it [00:07, 10922.52it/s]\u001b[A\n",
            "Loading...: 92848it [00:07, 11281.10it/s]\u001b[A\n",
            "Loading...: 94070it [00:07, 11546.87it/s]\u001b[A\n",
            "Loading...: 95231it [00:07, 11495.20it/s]\u001b[A\n",
            "Loading...: 96385it [00:07, 11199.11it/s]\u001b[A\n",
            "Loading...: 97569it [00:07, 11382.15it/s]\u001b[A\n",
            "Loading...: 98748it [00:08, 11499.36it/s]\u001b[A\n",
            "Loading...: 99998it [00:08, 11781.76it/s]\u001b[A\n",
            "Loading...: 101266it [00:08, 12032.94it/s]\u001b[A\n",
            "Loading...: 102496it [00:08, 12109.79it/s]\u001b[A\n",
            "Loading...: 103800it [00:08, 12373.53it/s]\u001b[A\n",
            "Loading...: 105041it [00:08, 12377.02it/s]\u001b[A\n",
            "Loading...: 106282it [00:08, 12082.58it/s]\u001b[A\n",
            "Loading...: 107494it [00:08, 11987.89it/s]\u001b[A\n",
            "Loading...: 108696it [00:08, 11608.73it/s]\u001b[A\n",
            "Loading...: 109862it [00:09, 11529.82it/s]\u001b[A\n",
            "Loading...: 111019it [00:09, 11304.08it/s]\u001b[A\n",
            "Loading...: 112153it [00:09, 11245.50it/s]\u001b[A\n",
            "Loading...: 113329it [00:09, 11393.21it/s]\u001b[A\n",
            "Loading...: 114555it [00:09, 11638.10it/s]\u001b[A\n",
            "Loading...: 115776it [00:09, 11803.06it/s]\u001b[A\n",
            "Loading...: 116959it [00:09, 11596.50it/s]\u001b[A\n",
            "Loading...: 118122it [00:09, 11542.24it/s]\u001b[A\n",
            "Loading...: 119279it [00:09, 11414.93it/s]\u001b[A\n",
            "Loading...: 120423it [00:09, 11286.96it/s]\u001b[A\n",
            "Loading...: 121598it [00:10, 11419.90it/s]\u001b[A\n",
            "Loading...: 122843it [00:10, 11707.41it/s]\u001b[A\n",
            "Loading...: 124017it [00:10, 11630.28it/s]\u001b[A\n",
            "Loading...: 125183it [00:10, 11422.11it/s]\u001b[A\n",
            "Loading...: 126415it [00:10, 11677.16it/s]\u001b[A\n",
            "Loading...: 127655it [00:10, 11883.40it/s]\u001b[A\n",
            "Loading...: 128959it [00:10, 12206.56it/s]\u001b[A\n",
            "Loading...: 130214it [00:10, 12307.51it/s]\u001b[A\n",
            "Loading...: 131448it [00:10, 12297.13it/s]\u001b[A\n",
            "Loading...: 132680it [00:10, 11953.55it/s]\u001b[A\n",
            "Loading...: 133888it [00:11, 11990.53it/s]\u001b[A\n",
            "Loading...: 135090it [00:11, 11973.76it/s]\u001b[A\n",
            "Loading...: 136290it [00:11, 11891.09it/s]\u001b[A\n",
            "Loading...: 137539it [00:11, 12064.45it/s]\u001b[A\n",
            "Loading...: 138756it [00:11, 12095.28it/s]\u001b[A\n",
            "Loading...: 139972it [00:11, 12112.17it/s]\u001b[A\n",
            "Loading...: 141185it [00:11, 12037.38it/s]\u001b[A\n",
            "Loading...: 142447it [00:11, 12204.41it/s]\u001b[A\n",
            "Loading...: 143669it [00:11, 12015.74it/s]\u001b[A\n",
            "Loading...: 144872it [00:11, 11798.13it/s]\u001b[A\n",
            "Loading...: 146055it [00:12, 11806.08it/s]\u001b[A\n",
            "Loading...: 147282it [00:12, 11939.47it/s]\u001b[A\n",
            "Loading...: 148493it [00:12, 11988.82it/s]\u001b[A\n",
            "Loading...: 149775it [00:12, 12225.29it/s]\u001b[A\n",
            "Loading...: 151041it [00:12, 12351.39it/s]\u001b[A\n",
            "Loading...: 152278it [00:12, 12136.74it/s]\u001b[A\n",
            "Loading...: 153550it [00:12, 12304.73it/s]\u001b[A\n",
            "Loading...: 154783it [00:12, 12034.19it/s]\u001b[A\n",
            "Loading...: 155990it [00:12, 11754.89it/s]\u001b[A\n",
            "Loading...: 157169it [00:13, 11360.46it/s]\u001b[A\n",
            "Loading...: 158321it [00:13, 11406.47it/s]\u001b[A\n",
            "Loading...: 159491it [00:13, 11492.56it/s]\u001b[A\n",
            "Loading...: 160711it [00:13, 11693.96it/s]\u001b[A\n",
            "Loading...: 161914it [00:13, 11789.26it/s]\u001b[A\n",
            "Loading...: 163129it [00:13, 11894.02it/s]\u001b[A\n",
            "Loading...: 164321it [00:13, 11882.71it/s]\u001b[A\n",
            "Loading...: 165511it [00:13, 11732.43it/s]\u001b[A\n",
            "Loading...: 166761it [00:13, 11951.68it/s]\u001b[A\n",
            "Loading...: 167959it [00:13, 11932.82it/s]\u001b[A\n",
            "Loading...: 169154it [00:14, 11781.60it/s]\u001b[A\n",
            "Loading...: 170370it [00:14, 11891.12it/s]\u001b[A\n",
            "Loading...: 171637it [00:14, 12112.61it/s]\u001b[A\n",
            "Loading...: 172851it [00:14, 12057.99it/s]\u001b[A\n",
            "Loading...: 174059it [00:14, 12011.65it/s]\u001b[A\n",
            "Loading...: 175262it [00:14, 11186.87it/s]\u001b[A\n",
            "Loading...: 176393it [00:14, 11106.05it/s]\u001b[A\n",
            "Loading...: 177513it [00:14, 10778.63it/s]\u001b[A\n",
            "Loading...: 178793it [00:14, 11314.64it/s]\u001b[A\n",
            "Loading...: 179938it [00:14, 11252.01it/s]\u001b[A\n",
            "Loading...: 181199it [00:15, 11627.65it/s]\u001b[A\n",
            "Loading...: 182377it [00:15, 11671.87it/s]\u001b[A\n",
            "Loading...: 183551it [00:15, 11160.27it/s]\u001b[A\n",
            "Loading...: 184711it [00:15, 11287.78it/s]\u001b[A\n",
            "Loading...: 185847it [00:15, 11206.92it/s]\u001b[A\n",
            "Loading...: 187077it [00:15, 11505.65it/s]\u001b[A\n",
            "Loading...: 188321it [00:15, 11769.88it/s]\u001b[A\n",
            "Loading...: 189611it [00:15, 12085.40it/s]\u001b[A\n",
            "Loading...: 190852it [00:15, 12178.94it/s]\u001b[A\n",
            "Loading...: 192075it [00:15, 11733.40it/s]\u001b[A\n",
            "Loading...: 193314it [00:16, 11920.45it/s]\u001b[A\n",
            "Loading...: 194512it [00:16, 11661.05it/s]\u001b[A\n",
            "Loading...: 195684it [00:16, 11676.81it/s]\u001b[A\n",
            "Loading...: 196911it [00:16, 11847.74it/s]\u001b[A\n",
            "Loading...: 198099it [00:16, 11839.60it/s]\u001b[A\n",
            "Loading...: 199366it [00:16, 12053.59it/s]\u001b[A\n",
            "Loading...: 200574it [00:16, 11966.22it/s]\u001b[A\n",
            "Loading...: 201773it [00:16, 11882.09it/s]\u001b[A\n",
            "Loading...: 202963it [00:16, 11601.66it/s]\u001b[A\n",
            "Loading...: 204126it [00:17, 11038.03it/s]\u001b[A\n",
            "Loading...: 205238it [00:17, 10930.95it/s]\u001b[A\n",
            "Loading...: 206337it [00:17, 10860.27it/s]\u001b[A\n",
            "Loading...: 207451it [00:17, 10941.13it/s]\u001b[A\n",
            "Loading...: 208588it [00:17, 11065.26it/s]\u001b[A\n",
            "Loading...: 209856it [00:17, 11500.69it/s]\u001b[A\n",
            "Loading...: 211045it [00:17, 11612.17it/s]\u001b[A\n",
            "Loading...: 212221it [00:17, 11655.85it/s]\u001b[A\n",
            "Loading...: 213504it [00:17, 11983.76it/s]\u001b[A\n",
            "Loading...: 214723it [00:17, 12043.54it/s]\u001b[A\n",
            "Loading...: 215931it [00:18, 11408.29it/s]\u001b[A\n",
            "Loading...: 217082it [00:18, 11146.99it/s]\u001b[A\n",
            "Loading...: 218205it [00:18, 11149.56it/s]\u001b[A\n",
            "Loading...: 219425it [00:18, 11444.53it/s]\u001b[A\n",
            "Loading...: 220655it [00:18, 11687.44it/s]\u001b[A\n",
            "Loading...: 221943it [00:18, 12020.84it/s]\u001b[A\n",
            "Loading...: 223152it [00:18, 11972.87it/s]\u001b[A\n",
            "Loading...: 224409it [00:18, 12143.45it/s]\u001b[A\n",
            "Loading...: 225629it [00:18, 12158.70it/s]\u001b[A\n",
            "Loading...: 226848it [00:18, 11825.54it/s]\u001b[A\n",
            "Loading...: 228035it [00:19, 11639.27it/s]\u001b[A\n",
            "Loading...: 229311it [00:19, 11949.86it/s]\u001b[A\n",
            "Loading...: 230545it [00:19, 12064.23it/s]\u001b[A\n",
            "Loading...: 231755it [00:19, 11774.31it/s]\u001b[A\n",
            "Loading...: 232937it [00:19, 11446.05it/s]\u001b[A\n",
            "Loading...: 234225it [00:19, 11841.11it/s]\u001b[A\n",
            "Loading...: 235473it [00:19, 12024.28it/s]\u001b[A\n",
            "Loading...: 236713it [00:19, 12131.05it/s]\u001b[A\n",
            "Loading...: 237931it [00:19, 12088.33it/s]\u001b[A\n",
            "Loading...: 239143it [00:20, 11923.44it/s]\u001b[A\n",
            "Loading...: 240338it [00:20, 11521.18it/s]\u001b[A\n",
            "Loading...: 241495it [00:20, 11223.93it/s]\u001b[A\n",
            "Loading...: 242623it [00:20, 11188.03it/s]\u001b[A\n",
            "Loading...: 243852it [00:20, 11496.02it/s]\u001b[A\n",
            "Loading...: 245082it [00:20, 11724.99it/s]\u001b[A\n",
            "Loading...: 246280it [00:20, 11798.30it/s]\u001b[A\n",
            "Loading...: 247463it [00:20, 11670.03it/s]\u001b[A\n",
            "Loading...: 248685it [00:20, 11828.18it/s]\u001b[A\n",
            "Loading...: 249896it [00:20, 11909.46it/s]\u001b[A\n",
            "Loading...: 251089it [00:21, 11696.75it/s]\u001b[A\n",
            "Loading...: 252297it [00:21, 11808.34it/s]\u001b[A\n",
            "Loading...: 253506it [00:21, 11890.04it/s]\u001b[A\n",
            "Loading...: 254734it [00:21, 12003.73it/s]\u001b[A\n",
            "Loading...: 256016it [00:21, 12236.14it/s]\u001b[A\n",
            "Loading...: 257242it [00:21, 11831.71it/s]\u001b[A\n",
            "Loading...: 258430it [00:21, 11541.20it/s]\u001b[A\n",
            "Loading...: 259589it [00:21, 11525.69it/s]\u001b[A\n",
            "Loading...: 260835it [00:21, 11788.82it/s]\u001b[A\n",
            "Loading...: 262018it [00:21, 11734.10it/s]\u001b[A\n",
            "Loading...: 263195it [00:22, 11504.61it/s]\u001b[A\n",
            "Loading...: 264362it [00:22, 11550.67it/s]\u001b[A\n",
            "Loading...: 265520it [00:22, 11493.82it/s]\u001b[A\n",
            "Loading...: 266671it [00:22, 11489.20it/s]\u001b[A\n",
            "Loading...: 267825it [00:22, 11502.41it/s]\u001b[A\n",
            "Loading...: 269012it [00:22, 11608.57it/s]\u001b[A\n",
            "Loading...: 270239it [00:22, 11798.33it/s]\u001b[A\n",
            "Loading...: 271433it [00:22, 11837.88it/s]\u001b[A\n",
            "Loading...: 272618it [00:22, 11748.78it/s]\u001b[A\n",
            "Loading...: 273838it [00:22, 11877.30it/s]\u001b[A\n",
            "Loading...: 275027it [00:23, 11833.00it/s]\u001b[A\n",
            "Loading...: 276235it [00:23, 11904.76it/s]\u001b[A\n",
            "Loading...: 277473it [00:23, 12034.19it/s]\u001b[A\n",
            "Loading...: 278750it [00:23, 12245.70it/s]\u001b[A\n",
            "Loading...: 280000it [00:23, 12319.14it/s]\u001b[A\n",
            "Loading...: 281234it [00:23, 12135.48it/s]\u001b[A\n",
            "Loading...: 282449it [00:23, 12048.32it/s]\u001b[A\n",
            "Loading...: 283683it [00:23, 12132.83it/s]\u001b[A\n",
            "Loading...: 284898it [00:23, 12101.49it/s]\u001b[A\n",
            "Loading...: 286109it [00:24, 11794.34it/s]\u001b[A\n",
            "Loading...: 287291it [00:24, 11311.83it/s]\u001b[A\n",
            "Loading...: 288534it [00:24, 11625.35it/s]\u001b[A\n",
            "Loading...: 289787it [00:24, 11881.39it/s]\u001b[A\n",
            "Loading...: 291020it [00:24, 12011.05it/s]\u001b[A\n",
            "Loading...: 292226it [00:24, 11876.64it/s]\u001b[A\n",
            "Loading...: 293435it [00:24, 11939.55it/s]\u001b[A\n",
            "Loading...: 294730it [00:24, 12224.95it/s]\u001b[A\n",
            "Loading...: 295973it [00:24, 12285.48it/s]\u001b[A\n",
            "Loading...: 297204it [00:24, 11797.58it/s]\u001b[A\n",
            "Loading...: 298407it [00:25, 11865.51it/s]\u001b[A\n",
            "Loading...: 299598it [00:25, 11470.91it/s]\u001b[A\n",
            "Loading...: 300792it [00:25, 11607.28it/s]\u001b[A\n",
            "Loading...: 301978it [00:25, 11679.92it/s]\u001b[A\n",
            "Loading...: 303175it [00:25, 11765.10it/s]\u001b[A\n",
            "Loading...: 304354it [00:25, 11644.98it/s]\u001b[A\n",
            "Loading...: 305580it [00:25, 11819.09it/s]\u001b[A\n",
            "Loading...: 306764it [00:25, 11673.57it/s]\u001b[A\n",
            "Loading...: 307934it [00:25, 11630.16it/s]\u001b[A\n",
            "Loading...: 309151it [00:25, 11786.82it/s]\u001b[A\n",
            "Loading...: 310358it [00:26, 11870.29it/s]\u001b[A\n",
            "Loading...: 311547it [00:26, 11712.57it/s]\u001b[A\n",
            "Loading...: 312721it [00:26, 11720.34it/s]\u001b[A\n",
            "Loading...: 313894it [00:26, 11512.40it/s]\u001b[A\n",
            "Loading...: 315085it [00:26, 11627.42it/s]\u001b[A\n",
            "Loading...: 316340it [00:26, 11888.91it/s]\u001b[A\n",
            "Loading...: 317572it [00:26, 12013.75it/s]\u001b[A\n",
            "Loading...: 318801it [00:26, 12093.67it/s]\u001b[A\n",
            "Loading...: 320063it [00:26, 12242.77it/s]\u001b[A\n",
            "Loading...: 321289it [00:26, 12243.04it/s]\u001b[A\n",
            "Loading...: 322515it [00:27, 12119.56it/s]\u001b[A\n",
            "Loading...: 323728it [00:27, 11565.62it/s]\u001b[A\n",
            "Loading...: 324891it [00:27, 11495.06it/s]\u001b[A\n",
            "Loading...: 326045it [00:27, 11145.46it/s]\u001b[A\n",
            "Loading...: 327165it [00:27, 11018.86it/s]\u001b[A\n",
            "Loading...: 328271it [00:27, 10926.19it/s]\u001b[A\n",
            "Loading...: 329452it [00:27, 11176.46it/s]\u001b[A\n",
            "Loading...: 330618it [00:27, 11316.09it/s]\u001b[A\n",
            "Loading...: 331753it [00:27, 11320.07it/s]\u001b[A\n",
            "Loading...: 332961it [00:28, 11536.05it/s]\u001b[A\n",
            "Loading...: 334118it [00:28, 11478.12it/s]\u001b[A\n",
            "Loading...: 335268it [00:28, 11069.41it/s]\u001b[A\n",
            "Loading...: 336380it [00:28, 11076.74it/s]\u001b[A\n",
            "Loading...: 337648it [00:28, 11512.98it/s]\u001b[A\n",
            "Loading...: 338880it [00:28, 11743.42it/s]\u001b[A\n",
            "Loading...: 340061it [00:28, 11610.08it/s]\u001b[A\n",
            "Loading...: 341339it [00:28, 11937.52it/s]\u001b[A\n",
            "Loading...: 342565it [00:28, 12031.00it/s]\u001b[A\n",
            "Loading...: 343780it [00:28, 12065.68it/s]\u001b[A\n",
            "Loading...: 345037it [00:29, 12212.36it/s]\u001b[A\n",
            "Loading...: 346261it [00:29, 11680.49it/s]\u001b[A\n",
            "Loading...: 347436it [00:29, 11171.58it/s]\u001b[A\n",
            "Loading...: 348563it [00:29, 11079.54it/s]\u001b[A\n",
            "Loading...: 349678it [00:29, 10425.62it/s]\u001b[A\n",
            "Loading...: 350829it [00:29, 10728.29it/s]\u001b[A\n",
            "Loading...: 351913it [00:29, 10583.03it/s]\u001b[A\n",
            "Loading...: 353133it [00:29, 11019.99it/s]\u001b[A\n",
            "Loading...: 354424it [00:29, 11524.31it/s]\u001b[A\n",
            "Loading...: 355604it [00:29, 11604.71it/s]\u001b[A\n",
            "Loading...: 356774it [00:30, 11483.12it/s]\u001b[A\n",
            "Loading...: 357930it [00:30, 11275.31it/s]\u001b[A\n",
            "Loading...: 359064it [00:30, 11224.43it/s]\u001b[A\n",
            "Loading...: 360288it [00:30, 11507.34it/s]\u001b[A\n",
            "Loading...: 361551it [00:30, 11820.43it/s]\u001b[A\n",
            "Loading...: 362794it [00:30, 11996.14it/s]\u001b[A\n",
            "Loading...: 364035it [00:30, 12114.60it/s]\u001b[A\n",
            "Loading...: 365323it [00:30, 12332.77it/s]\u001b[A\n",
            "Loading...: 366566it [00:30, 12361.52it/s]\u001b[A\n",
            "Loading...: 367805it [00:31, 12179.19it/s]\u001b[A\n",
            "Loading...: 369026it [00:31, 11799.00it/s]\u001b[A\n",
            "Loading...: 370211it [00:31, 11642.65it/s]\u001b[A\n",
            "Loading...: 371480it [00:31, 11934.86it/s]\u001b[A\n",
            "Loading...: 372732it [00:31, 12104.19it/s]\u001b[A\n",
            "Loading...: 373946it [00:31, 12069.83it/s]\u001b[A\n",
            "Loading...: 375156it [00:31, 12002.96it/s]\u001b[A\n",
            "Loading...: 376359it [00:31, 11762.06it/s]\u001b[A\n",
            "Loading...: 377538it [00:31, 11614.75it/s]\u001b[A\n",
            "Loading...: 378702it [00:31, 11589.22it/s]\u001b[A\n",
            "Loading...: 379863it [00:32, 11551.48it/s]\u001b[A\n",
            "Loading...: 381020it [00:32, 11417.59it/s]\u001b[A\n",
            "Loading...: 382163it [00:32, 11028.96it/s]\u001b[A\n",
            "Loading...: 383411it [00:32, 11426.11it/s]\u001b[A\n",
            "Loading...: 384639it [00:32, 11668.71it/s]\u001b[A\n",
            "Loading...: 385877it [00:32, 11872.39it/s]\u001b[A\n",
            "Loading...: 387143it [00:32, 12098.08it/s]\u001b[A\n",
            "Loading...: 388358it [00:32, 11816.69it/s]\u001b[A\n",
            "Loading...: 389545it [00:32, 11552.54it/s]\u001b[A\n",
            "Loading...: 390705it [00:32, 11431.83it/s]\u001b[A\n",
            "Loading...: 391901it [00:33, 11583.53it/s]\u001b[A\n",
            "Loading...: 393069it [00:33, 11609.77it/s]\u001b[A\n",
            "Loading...: 394233it [00:33, 11310.94it/s]\u001b[A\n",
            "Loading...: 395473it [00:33, 11614.88it/s]\u001b[A\n",
            "Loading...: 396664it [00:33, 11700.55it/s]\u001b[A\n",
            "Loading...: 397838it [00:33, 11686.72it/s]\u001b[A\n",
            "Loading...: 400000it [00:33, 11845.51it/s]"
          ],
          "name": "stderr"
        },
        {
          "output_type": "stream",
          "text": [
            "Found 400000 word vectors.\n"
          ],
          "name": "stdout"
        },
        {
          "output_type": "stream",
          "text": [
            "\n"
          ],
          "name": "stderr"
        }
      ]
    },
    {
      "cell_type": "code",
      "metadata": {
        "colab": {
          "base_uri": "https://localhost:8080/"
        },
        "id": "w047VnDh9NZ6",
        "outputId": "a04fd65a-341e-4e33-ff47-695dd039b37c"
      },
      "source": [
        "# create an embedding matrix for the words we have in the dataset\n",
        "embedding_matrix = np.zeros((len(word_index) + 1, 300))\n",
        "for word, i in tqdm(word_index.items()):\n",
        "    embedding_vector = embeddings_index.get(word)\n",
        "    if embedding_vector is not None:\n",
        "        embedding_matrix[i] = embedding_vector"
      ],
      "execution_count": 57,
      "outputs": [
        {
          "output_type": "stream",
          "text": [
            "\n",
            "100%|██████████| 25943/25943 [00:00<00:00, 323654.09it/s]\n"
          ],
          "name": "stderr"
        }
      ]
    },
    {
      "cell_type": "code",
      "metadata": {
        "id": "8fK6dOiG9REL"
      },
      "source": [
        ""
      ],
      "execution_count": null,
      "outputs": []
    }
  ]
}